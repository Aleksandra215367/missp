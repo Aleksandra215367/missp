{
  "nbformat": 4,
  "nbformat_minor": 0,
  "metadata": {
    "kernelspec": {
      "display_name": "Python 3",
      "language": "python",
      "name": "python3"
    },
    "language_info": {
      "codemirror_mode": {
        "name": "ipython",
        "version": 3
      },
      "file_extension": ".py",
      "mimetype": "text/x-python",
      "name": "python",
      "nbconvert_exporter": "python",
      "pygments_lexer": "ipython3",
      "version": "3.7.3"
    },
    "colab": {
      "name": "cd_podstaw_pythona_lab2.ipynb",
      "provenance": [],
      "collapsed_sections": []
    }
  },
  "cells": [
    {
      "cell_type": "code",
      "metadata": {
        "id": "TkgixWFItCbN"
      },
      "source": [
        "import numpy as np"
      ],
      "execution_count": null,
      "outputs": []
    },
    {
      "cell_type": "code",
      "metadata": {
        "id": "LS7dTICJtCbS"
      },
      "source": [
        "a_list= [1,2,3,4,5, [1,2,3], \"temat\"] # nie idealna lista\n",
        "k_krotka = (1,2,3,4,5, [1,2,3], \"temat\")\n",
        "b_list = [1,2,3,4,5]\n",
        "n_array = np.array(b_list) # wektor numpy\n"
      ],
      "execution_count": null,
      "outputs": []
    },
    {
      "cell_type": "code",
      "metadata": {
        "id": "cDoH5DcntCbV",
        "outputId": "7783123a-ed73-48ca-e16b-88ebde0df80a"
      },
      "source": [
        "a_list+b_list\n",
        "n_array+n_array"
      ],
      "execution_count": null,
      "outputs": [
        {
          "output_type": "execute_result",
          "data": {
            "text/plain": [
              "array([ 2,  4,  6,  8, 10])"
            ]
          },
          "metadata": {
            "tags": []
          },
          "execution_count": 13
        }
      ]
    },
    {
      "cell_type": "code",
      "metadata": {
        "id": "kdvX7wa0tCbY",
        "outputId": "8aaa1ed0-a58e-4b72-d491-f754c3ccada1"
      },
      "source": [
        "a_list[3]"
      ],
      "execution_count": null,
      "outputs": [
        {
          "output_type": "error",
          "ename": "NameError",
          "evalue": "name 'k_list' is not defined",
          "traceback": [
            "\u001b[0;31m---------------------------------------------------------------------------\u001b[0m",
            "\u001b[0;31mNameError\u001b[0m                                 Traceback (most recent call last)",
            "\u001b[0;32m<ipython-input-12-a1492b151a5c>\u001b[0m in \u001b[0;36m<module>\u001b[0;34m\u001b[0m\n\u001b[0;32m----> 1\u001b[0;31m \u001b[0mk_list\u001b[0m\u001b[0;34m[\u001b[0m\u001b[0;36m3\u001b[0m\u001b[0;34m]\u001b[0m\u001b[0;34m\u001b[0m\u001b[0;34m\u001b[0m\u001b[0m\n\u001b[0m",
            "\u001b[0;31mNameError\u001b[0m: name 'k_list' is not defined"
          ]
        }
      ]
    },
    {
      "cell_type": "code",
      "metadata": {
        "id": "Hvz0g3zRtCbb",
        "outputId": "e84d2537-8e01-44a4-fb0b-411cc3be85bb"
      },
      "source": [
        "a_list.append(100)\n",
        "print(a_list)"
      ],
      "execution_count": null,
      "outputs": [
        {
          "output_type": "stream",
          "text": [
            "[1, 2, 3, 4, 5, [1, 2, 3], 'temat', 100, 100]\n"
          ],
          "name": "stdout"
        }
      ]
    },
    {
      "cell_type": "code",
      "metadata": {
        "id": "PSCcn_fttCbd",
        "outputId": "213eff32-a28f-43d6-d4d4-514d5b1d7f2d"
      },
      "source": [
        "k_krotka[4]"
      ],
      "execution_count": null,
      "outputs": [
        {
          "output_type": "execute_result",
          "data": {
            "text/plain": [
              "5"
            ]
          },
          "metadata": {
            "tags": []
          },
          "execution_count": 13
        }
      ]
    },
    {
      "cell_type": "code",
      "metadata": {
        "id": "Sn7QtRtPtCbg",
        "outputId": "d80b727a-701f-4e64-e302-0d3e81ada67e"
      },
      "source": [
        "k_krotka.append(100)"
      ],
      "execution_count": null,
      "outputs": [
        {
          "output_type": "error",
          "ename": "AttributeError",
          "evalue": "'tuple' object has no attribute 'append'",
          "traceback": [
            "\u001b[0;31m---------------------------------------------------------------------------\u001b[0m",
            "\u001b[0;31mAttributeError\u001b[0m                            Traceback (most recent call last)",
            "\u001b[0;32m<ipython-input-14-4da2f0146474>\u001b[0m in \u001b[0;36m<module>\u001b[0;34m\u001b[0m\n\u001b[0;32m----> 1\u001b[0;31m \u001b[0mk_krotka\u001b[0m\u001b[0;34m.\u001b[0m\u001b[0mappend\u001b[0m\u001b[0;34m(\u001b[0m\u001b[0;36m100\u001b[0m\u001b[0;34m)\u001b[0m\u001b[0;34m\u001b[0m\u001b[0;34m\u001b[0m\u001b[0m\n\u001b[0m",
            "\u001b[0;31mAttributeError\u001b[0m: 'tuple' object has no attribute 'append'"
          ]
        }
      ]
    },
    {
      "cell_type": "code",
      "metadata": {
        "id": "idzTL19RtCbi",
        "outputId": "0cfa61df-169d-44da-905f-5b7fce46b420"
      },
      "source": [
        "np.array(b_list)+np.array(b_list)"
      ],
      "execution_count": null,
      "outputs": [
        {
          "output_type": "execute_result",
          "data": {
            "text/plain": [
              "array([ 2,  4,  6,  8, 10])"
            ]
          },
          "metadata": {
            "tags": []
          },
          "execution_count": 8
        }
      ]
    },
    {
      "cell_type": "code",
      "metadata": {
        "id": "Y_XLv6GhtCbk"
      },
      "source": [
        "n_array = np.array(a_list) # wektor numpy"
      ],
      "execution_count": null,
      "outputs": []
    },
    {
      "cell_type": "code",
      "metadata": {
        "id": "GuksZ-dOtCbm",
        "outputId": "e42d13d8-e4b4-4418-abc4-0900e3514a4f"
      },
      "source": [
        "n_array"
      ],
      "execution_count": null,
      "outputs": [
        {
          "output_type": "execute_result",
          "data": {
            "text/plain": [
              "array([1, 2, 3, 4, 5, list([1, 2, 3]), 'temat'], dtype=object)"
            ]
          },
          "metadata": {
            "tags": []
          },
          "execution_count": 10
        }
      ]
    },
    {
      "cell_type": "code",
      "metadata": {
        "id": "3GKlIUWJtCbo"
      },
      "source": [
        "#### Nowosci\n",
        "\n",
        "studenci_slownik = {123: 123,\"Igor\":3, \"Frankek\":5, \"Zosia\":22,\"Julia\":[2,21], (1,2):\"Krotka\"}"
      ],
      "execution_count": null,
      "outputs": []
    },
    {
      "cell_type": "code",
      "metadata": {
        "id": "31vGHluytCbq",
        "outputId": "b9ade7cf-7a0c-42e7-9b34-8448f0ce7d26"
      },
      "source": [
        "print(studenci_slownik)"
      ],
      "execution_count": null,
      "outputs": [
        {
          "output_type": "stream",
          "text": [
            "{123: 123, 'Igor': 3, 'Frankek': 5, 'Zosia': 22, 'Julia': [2, 21], (1, 2): 'Krotka'}\n"
          ],
          "name": "stdout"
        }
      ]
    },
    {
      "cell_type": "code",
      "metadata": {
        "id": "y3_jCTd2tCbr",
        "outputId": "2c32dbf5-fe54-47b6-bed9-8ce980398979"
      },
      "source": [
        "studenci_slownik[\"Zosia\"]"
      ],
      "execution_count": null,
      "outputs": [
        {
          "output_type": "execute_result",
          "data": {
            "text/plain": [
              "22"
            ]
          },
          "metadata": {
            "tags": []
          },
          "execution_count": 21
        }
      ]
    },
    {
      "cell_type": "code",
      "metadata": {
        "id": "irq4idwotCbu",
        "outputId": "4a3f246e-0c29-4887-b61b-da9a9706cb53"
      },
      "source": [
        "for elementy in studenci_slownik:\n",
        "    print(elementy)\n",
        "\n",
        "print(\"*\"*20)\n",
        "for elementy in studenci_slownik.keys():\n",
        "    print(elementy)"
      ],
      "execution_count": null,
      "outputs": [
        {
          "output_type": "stream",
          "text": [
            "123\n",
            "Igor\n",
            "Frankek\n",
            "Zosia\n",
            "Julia\n",
            "(1, 2)\n",
            "********************\n",
            "123\n",
            "Igor\n",
            "Frankek\n",
            "Zosia\n",
            "Julia\n",
            "(1, 2)\n"
          ],
          "name": "stdout"
        }
      ]
    },
    {
      "cell_type": "code",
      "metadata": {
        "id": "WqXfibAstCbw",
        "outputId": "30d07005-c213-4aed-b3e3-b1b6df0d2287"
      },
      "source": [
        "for elementy in studenci_slownik.items():\n",
        "    print(elementy)"
      ],
      "execution_count": null,
      "outputs": [
        {
          "output_type": "stream",
          "text": [
            "('Igor', 3)\n",
            "('Frankek', 5)\n",
            "('Zosia', 22)\n",
            "('Julia', [2, 21])\n"
          ],
          "name": "stdout"
        }
      ]
    },
    {
      "cell_type": "code",
      "metadata": {
        "id": "EpdyMVYStCby",
        "outputId": "95c55660-3563-4eef-d1a5-535d8f26aba7"
      },
      "source": [
        "for elementy in studenci_slownik.values():\n",
        "    print(elementy)"
      ],
      "execution_count": null,
      "outputs": [
        {
          "output_type": "stream",
          "text": [
            "3\n",
            "5\n",
            "22\n",
            "[2, 21]\n"
          ],
          "name": "stdout"
        }
      ]
    },
    {
      "cell_type": "code",
      "metadata": {
        "id": "l4LZzIpltCbz"
      },
      "source": [
        "studenci_slownik[\"Cuthulu\"]= -1000000"
      ],
      "execution_count": null,
      "outputs": []
    },
    {
      "cell_type": "code",
      "metadata": {
        "id": "AhUx-2fwtCb1",
        "outputId": "2206a7a9-8f35-45f3-e01a-89873c9312d9"
      },
      "source": [
        "studenci_slownik"
      ],
      "execution_count": null,
      "outputs": [
        {
          "output_type": "execute_result",
          "data": {
            "text/plain": [
              "{'Igor': 3, 'Frankek': 5, 'Zosia': 22, 'Julia': [2, 21], 'Cuthulu': -1000000}"
            ]
          },
          "metadata": {
            "tags": []
          },
          "execution_count": 31
        }
      ]
    },
    {
      "cell_type": "code",
      "metadata": {
        "id": "wrvpn1NCtCb3",
        "outputId": "c3e67ca6-28a3-4581-c7e5-99eaed73e364"
      },
      "source": [
        "automatyczna_lista=[liczba**2 for liczba in range(100) if liczba%4==0]\n",
        "print(automatyczna_lista)"
      ],
      "execution_count": null,
      "outputs": [
        {
          "output_type": "stream",
          "text": [
            "[0, 16, 64, 144, 256, 400, 576, 784, 1024, 1296, 1600, 1936, 2304, 2704, 3136, 3600, 4096, 4624, 5184, 5776, 6400, 7056, 7744, 8464, 9216]\n"
          ],
          "name": "stdout"
        }
      ]
    },
    {
      "cell_type": "code",
      "metadata": {
        "id": "-382Rn7WtCb5",
        "outputId": "85b0cfc1-dd09-4d8a-a8f1-027add32d7a5"
      },
      "source": [
        "studenci = studenci_slownik.keys()\n",
        "automatyczny_slownik=dict(para for para in enumerate(studenci))\n",
        "print(automatyczny_slownik)"
      ],
      "execution_count": null,
      "outputs": [
        {
          "output_type": "stream",
          "text": [
            "{0: 'Igor', 1: 'Frankek', 2: 'Zosia', 3: 'Julia', 4: 'Cuthulu'}\n"
          ],
          "name": "stdout"
        }
      ]
    },
    {
      "cell_type": "code",
      "metadata": {
        "id": "1oA71wZQtCb6"
      },
      "source": [
        "##### zbiory\n",
        "\n",
        "a={1,2,3,\"Franek\"}\n",
        "b={2,3,4,\"Franek\"}\n"
      ],
      "execution_count": null,
      "outputs": []
    },
    {
      "cell_type": "code",
      "metadata": {
        "id": "pb5Dtac5tCb8",
        "outputId": "c7328f38-3116-4bf9-eb6d-92465da06741"
      },
      "source": [
        "a|b #suma zbiorów, sum of sets"
      ],
      "execution_count": null,
      "outputs": [
        {
          "output_type": "execute_result",
          "data": {
            "text/plain": [
              "{1, 2, 3, 4, 'Franek'}"
            ]
          },
          "metadata": {
            "tags": []
          },
          "execution_count": 23
        }
      ]
    },
    {
      "cell_type": "code",
      "metadata": {
        "id": "s9hlD1kptCb-",
        "outputId": "3c8d6bdc-4180-4682-bd0a-71c5361242d4"
      },
      "source": [
        "a.add(\"Franek\")\n",
        "print(a)"
      ],
      "execution_count": null,
      "outputs": [
        {
          "output_type": "stream",
          "text": [
            "{1, 2, 3, 'Franek'}\n"
          ],
          "name": "stdout"
        }
      ]
    },
    {
      "cell_type": "code",
      "metadata": {
        "id": "fvYyrw1GtCb_",
        "outputId": "d8a984c7-c857-4396-a9bd-83b3845faefb"
      },
      "source": [
        "1 in a\n",
        "\"Igor\" in studenci_slownik"
      ],
      "execution_count": null,
      "outputs": [
        {
          "output_type": "execute_result",
          "data": {
            "text/plain": [
              "True"
            ]
          },
          "metadata": {
            "tags": []
          },
          "execution_count": 25
        }
      ]
    },
    {
      "cell_type": "markdown",
      "metadata": {
        "id": "t9QMfkaPtCcB"
      },
      "source": [
        "### Własne typy"
      ]
    },
    {
      "cell_type": "code",
      "metadata": {
        "id": "g6eO-8nYtCcC"
      },
      "source": [
        "zajecia = [[\"wf\"],\n",
        "           [\"informatyka\", \"nauka czytania\"],\n",
        "           [\"relax\", \"jedzenie\"],\n",
        "           [\"mispy\",\"mispy w domu\"],\n",
        "           [\"piateczek\", \"praca domowa z mispow\", \"Ilovemispy\", \"mispy w czasie snu\"]\n",
        "          ]\n",
        "\n",
        "dnityg= [\"Pon\",\"Wto\",\"Sro\",\"Czwar\",\"Pio\"]\n",
        "\n",
        "def dodaj_dwie_liczby(liczba1,liczba2):\n",
        "    return liczba1+liczba2"
      ],
      "execution_count": null,
      "outputs": []
    },
    {
      "cell_type": "code",
      "metadata": {
        "id": "DF7MS0_WtCcD"
      },
      "source": [
        "class DzienZajec():\n",
        "    \"\"\"obiekt trzymający dany dzień zajęć i przypisane mu metody\"\"\"\n",
        "    \n",
        "    \n",
        "    def __init__(self, lista_na_dany_dzien, nazwa_dnia): #definicja\n",
        "        self.lista_zajec= lista_na_dany_dzien\n",
        "        self.dzien = nazwa_dnia\n",
        "        \n",
        "\n",
        "    \n",
        "    def ile_mispow(self):\n",
        "        ile_m = sum([1 for zajecie in self.lista_zajec if \"misp\" in zajecie.lower()])\n",
        "        return ile_m\n",
        "\n",
        "    @property #zamienia na wlasciwosc   \n",
        "    def ile_zajec(self):\n",
        "        return len(self.lista_zajec)\n",
        "    \n",
        "    def __repr__(self):\n",
        "        zajecia_do_stringa = \", \".join(self.lista_zajec)\n",
        "        return \"W dzien {} mam zajecia: {}\".format(self.dzien, zajecia_do_stringa)\n",
        "    "
      ],
      "execution_count": null,
      "outputs": []
    },
    {
      "cell_type": "code",
      "metadata": {
        "id": "dli9w97vtCcF"
      },
      "source": [
        "pio_zajecia = DzienZajec([\"piateczek\", \"praca domowa z mispow\", \"Ilovemispy\", \"mispy w czasie snu\"],\n",
        "                        \"piatek\")"
      ],
      "execution_count": null,
      "outputs": []
    },
    {
      "cell_type": "code",
      "metadata": {
        "id": "LBBRGimHtCcH",
        "outputId": "a3edea2c-79e8-4278-9725-f85bfd6ef9cc"
      },
      "source": [
        "pio_zajecia.ile_zajec"
      ],
      "execution_count": null,
      "outputs": [
        {
          "output_type": "execute_result",
          "data": {
            "text/plain": [
              "4"
            ]
          },
          "metadata": {
            "tags": []
          },
          "execution_count": 32
        }
      ]
    },
    {
      "cell_type": "code",
      "metadata": {
        "id": "yWiychU8tCcJ",
        "outputId": "648dc36b-ce27-42d5-b4e9-180a50c1166a"
      },
      "source": [
        "print(pio_zajecia)"
      ],
      "execution_count": null,
      "outputs": [
        {
          "output_type": "stream",
          "text": [
            "W dzien piatek mam zajecia: piateczek, praca domowa z mispow, Ilovemispy, mispy w czasie snu\n"
          ],
          "name": "stdout"
        }
      ]
    },
    {
      "cell_type": "code",
      "metadata": {
        "id": "zcjD5gSytCcK",
        "outputId": "4672b958-5f71-43fa-b58a-24a1302d46a0"
      },
      "source": [
        "pio_zajecia.lista_zajec"
      ],
      "execution_count": null,
      "outputs": [
        {
          "output_type": "execute_result",
          "data": {
            "text/plain": [
              "['piateczek', 'praca domowa z mispow', 'Ilovemispy', 'mispy w czasie snu']"
            ]
          },
          "metadata": {
            "tags": []
          },
          "execution_count": 33
        }
      ]
    },
    {
      "cell_type": "code",
      "metadata": {
        "id": "1YGopGtqtCcM",
        "outputId": "b5d416e7-ec54-4cbd-8869-db32318b3d89"
      },
      "source": [
        "pio_zajecia.lista_zajec.append(\"MISP\")\n",
        "print(pio_zajecia.lista_zajec)"
      ],
      "execution_count": null,
      "outputs": [
        {
          "output_type": "stream",
          "text": [
            "['piateczek', 'praca domowa z mispow', 'Ilovemispy', 'mispy w czasie snu', 'MISP']\n"
          ],
          "name": "stdout"
        }
      ]
    },
    {
      "cell_type": "code",
      "metadata": {
        "id": "WZQfqEeptCcO",
        "outputId": "cadb1cbb-e605-4b11-81f4-39f9605d6315"
      },
      "source": [
        "pio_zajecia.ile_mispow()"
      ],
      "execution_count": null,
      "outputs": [
        {
          "output_type": "execute_result",
          "data": {
            "text/plain": [
              "4"
            ]
          },
          "metadata": {
            "tags": []
          },
          "execution_count": 35
        }
      ]
    },
    {
      "cell_type": "code",
      "metadata": {
        "id": "ELG7djWotCcP",
        "outputId": "382a5c55-2609-4957-bc8b-d8b69e80d2ea"
      },
      "source": [
        "print(pio_zajecia.lista_zajec)\n"
      ],
      "execution_count": null,
      "outputs": [
        {
          "output_type": "stream",
          "text": [
            "['piateczek', 'praca domowa z mispow', 'Ilovemispy', 'mispy w czasie snu', 'MISP']\n"
          ],
          "name": "stdout"
        }
      ]
    },
    {
      "cell_type": "code",
      "metadata": {
        "id": "W0mk3kMFtCcR",
        "outputId": "69fa811d-c471-44a4-a43b-760d7902795c"
      },
      "source": [
        "pio_zajecia"
      ],
      "execution_count": null,
      "outputs": [
        {
          "output_type": "execute_result",
          "data": {
            "text/plain": [
              "W dzien piatek mam zajecia: piateczek, praca domowa z mispow, Ilovemispy, mispy w czasie snu, MISP"
            ]
          },
          "metadata": {
            "tags": []
          },
          "execution_count": 85
        }
      ]
    },
    {
      "cell_type": "code",
      "metadata": {
        "id": "RYN0UPYTtCcS",
        "outputId": "20513e99-e644-41c2-b687-bd06e3dfe8e4"
      },
      "source": [
        "print(pio_zajecia.ile_zajec)"
      ],
      "execution_count": null,
      "outputs": [
        {
          "output_type": "stream",
          "text": [
            "5\n"
          ],
          "name": "stdout"
        }
      ]
    },
    {
      "cell_type": "code",
      "metadata": {
        "id": "pufyNu3NtCcV"
      },
      "source": [
        "lista_zajec= [DzienZajec(lista_dzien, dzien) for lista_dzien, dzien in \n",
        "             zip(zajecia,dnityg)]"
      ],
      "execution_count": null,
      "outputs": []
    },
    {
      "cell_type": "code",
      "metadata": {
        "id": "r1hepUMPtCcW",
        "outputId": "95cd944b-bbd8-4473-e32c-c1885adc7bc6"
      },
      "source": [
        "print(lista_zajec)"
      ],
      "execution_count": null,
      "outputs": [
        {
          "output_type": "stream",
          "text": [
            "[W dzien Pon mam zajecia: wf, W dzien Wto mam zajecia: informatyka, nauka czytania, W dzien Sro mam zajecia: relax, jedzenie, W dzien Czwar mam zajecia: mispy, mispy w domu, W dzien Pio mam zajecia: piateczek, praca domowa z mispow, Ilovemispy, mispy w czasie snu]\n"
          ],
          "name": "stdout"
        }
      ]
    },
    {
      "cell_type": "code",
      "metadata": {
        "id": "SfubnP4ZtCcX"
      },
      "source": [
        "posortowane_po_zajeciach=sorted(lista_zajec, key= lambda zajecie: zajecie.ile_zajec)\n",
        "posortowane_po_mispach=sorted(lista_zajec, key= lambda zajecie: zajecie.ile_mispow())"
      ],
      "execution_count": null,
      "outputs": []
    },
    {
      "cell_type": "code",
      "metadata": {
        "id": "dsRqp0JAtCcZ",
        "outputId": "b854dd01-ad53-4a58-f81b-4f0be51b7e2d"
      },
      "source": [
        "print(posortowane_po_zajeciach)"
      ],
      "execution_count": null,
      "outputs": [
        {
          "output_type": "stream",
          "text": [
            "[W dzien Pon mam zajecia: wf, W dzien Wto mam zajecia: informatyka, nauka czytania, W dzien Sro mam zajecia: relax, jedzenie, W dzien Czwar mam zajecia: mispy, mispy w domu, W dzien Pio mam zajecia: piateczek, praca domowa z mispow, Ilovemispy, mispy w czasie snu]\n"
          ],
          "name": "stdout"
        }
      ]
    },
    {
      "cell_type": "code",
      "metadata": {
        "id": "oFTH_Ab2tCca",
        "outputId": "78dac34f-5713-4113-faac-3de9595545a5"
      },
      "source": [
        "print(posortowane_po_mispach)"
      ],
      "execution_count": null,
      "outputs": [
        {
          "output_type": "stream",
          "text": [
            "[W dzien Pon mam zajecia: wf, W dzien Wto mam zajecia: informatyka, nauka czytania, W dzien Sro mam zajecia: relax, jedzenie, W dzien Czwar mam zajecia: mispy, mispy w domu, W dzien Pio mam zajecia: piateczek, praca domowa z mispow, Ilovemispy, mispy w czasie snu]\n"
          ],
          "name": "stdout"
        }
      ]
    },
    {
      "cell_type": "markdown",
      "metadata": {
        "id": "Uc3ZWXcctCcc"
      },
      "source": [
        "**Challenge 1**\n",
        "\n",
        "\n",
        "**Stworz typ NumerTelefonu**\n",
        "\n",
        " **-- przy tworzeniu sprawdza czy właściwy numer (Polski) jeśli nie pisze, że error (ew. Exception)**\n",
        " \n",
        " **-- gdy printuję to mi pisze polskimi słowami i.e. \"jeden, pięć, siedem, zero\"**\n",
        " \n",
        " **-- gdy wywołuję właściwość wojewodzwtwo, podaje mi wojewodztwo ew. ze to komorkowy**\n",
        " \n",
        " "
      ]
    },
    {
      "cell_type": "markdown",
      "metadata": {
        "id": "2q-336jaoraA"
      },
      "source": [
        "Przy tworzeniu sprawdza czy właściwy numer pochodzi z Polski, jeśli nie to pisze, że \"numer niepoprawny\"."
      ]
    },
    {
      "cell_type": "code",
      "metadata": {
        "id": "x1Ivs8Z6tCcc"
      },
      "source": [
        "class Numertelefonu():\n",
        "    def __init__(self,nr_telefonu):\n",
        "        self.nr_telefonu = nr_telefonu\n",
        "        kierunkowy = (int(nr_telefonu[0:2]))\n",
        "        if len(nr_telefonu) == 9:\n",
        "            print(\"Właściwy numer\")\n",
        "        else:\n",
        "            print(\"Niepoprawny numer\")"
      ],
      "execution_count": 1,
      "outputs": []
    },
    {
      "cell_type": "markdown",
      "metadata": {
        "id": "0natVNBWovOs"
      },
      "source": [
        "Printowanie numeru polskimi słowami i.e. \"jeden, pięć, siedem, zero\"."
      ]
    },
    {
      "cell_type": "code",
      "metadata": {
        "id": "Bsdd0BDzo0Rp"
      },
      "source": [
        "    def __repr__(self):\r\n",
        "      nr_telefonu =self.nr_telefonu\r\n",
        "      cyfry = {\"0\":\"zero \",\"1\":\"jeden \",\"2\":\"dwa \",\"3\":\"trzy \",\"4\":\"cztery \",\"5\":\"pięć \",\"6\":\"sześć \",\"7\":\"siedem \",\"8\":\"osiem \",\"9\":\"dziewięć \"}\r\n",
        "      nr_text = \"\"\r\n",
        "      for x in range(9):\r\n",
        "          nr_text += cyfry[nr_telefonu[x]]\r\n",
        "      return nr_text"
      ],
      "execution_count": 2,
      "outputs": []
    },
    {
      "cell_type": "markdown",
      "metadata": {
        "id": "8IkSw36Lo3wR"
      },
      "source": [
        "Przypisanie numerów kierunkowych województwom, jeśli nie podano numeru z kierunkowym podaje, że jest to numer komórkowy."
      ]
    },
    {
      "cell_type": "code",
      "metadata": {
        "id": "r99BeVfRpBee"
      },
      "source": [
        "    def wojewodztwo(self):\r\n",
        "      komórkowy = [50,51,53,57,60,66,69,72]\r\n",
        "      wojewodztwa = {12:\"Małopolskie\",42:\"Łódźkie\",23:\"Mazowieckie\",68:\"Lubuskie\",81:\"Lubelskie\",75:\"Dolnośląskie\",56:\"Kujawsko-pomorskie\",77:\"Opolskie\",16:\"Podkarpackie\",85:\"Podlaskie\",33:\"Śląskie\",41:\"Świętokrzyskie\",62:\"Wielkopolskie\",91:\"Zachodnio-pomorskie\",55:\"Warmińsko-mazurskie\"}\r\n",
        "      kierunkowy = (int(self.nr_telefonu[0:2]))\r\n",
        "      if (kierunkowy in wojewodztwa.keys()):\r\n",
        "        self.wojewodztwo = wojewodztwa[kierunkowy]\r\n",
        "      elif (kierunkowy in komórkowy):\r\n",
        "        self.wojewodztwo = \"Numer komórkowy\"\r\n",
        "      else: \r\n",
        "        self.wojewodztwo = \"Nie wiadomo\"\r\n",
        "      return self.wojewodztwo"
      ],
      "execution_count": 3,
      "outputs": []
    },
    {
      "cell_type": "markdown",
      "metadata": {
        "id": "nq8Vu2rrqIHo"
      },
      "source": [
        "Cały kod jest zapisany w klasie, dlatego jest wykonywany razem i znajduje się w jednej komórce."
      ]
    },
    {
      "cell_type": "code",
      "metadata": {
        "id": "3Of-iUeOpkKK"
      },
      "source": [
        "class Numertelefonu():\r\n",
        "    def __init__(self,nr_telefonu):\r\n",
        "        self.nr_telefonu = nr_telefonu\r\n",
        "        kierunkowy = (int(nr_telefonu[0:2]))\r\n",
        "        if len(nr_telefonu) == 9:\r\n",
        "            print(\"Właściwy numer\")\r\n",
        "        else:\r\n",
        "            print(\"Niepoprawny numer\")\r\n",
        "\r\n",
        "    def __repr__(self):\r\n",
        "      nr_telefonu =self.nr_telefonu\r\n",
        "      cyfry = {\"0\":\"zero \",\"1\":\"jeden \",\"2\":\"dwa \",\"3\":\"trzy \",\"4\":\"cztery \",\"5\":\"pięć \",\"6\":\"sześć \",\"7\":\"siedem \",\"8\":\"osiem \",\"9\":\"dziewięć \"}\r\n",
        "      nr_text = \"\"\r\n",
        "      for x in range(9):\r\n",
        "          nr_text += cyfry[nr_telefonu[x]]\r\n",
        "      return nr_text  \r\n",
        "    def wojewodztwo(self):\r\n",
        "      komórkowy = [50,51,53,57,60,66,69,72]\r\n",
        "      wojewodztwa = {12:\"Małopolskie\",42:\"Łódźkie\",23:\"Mazowieckie\",68:\"Lubuskie\",81:\"Lubelskie\",75:\"Dolnośląskie\",56:\"Kujawsko-pomorskie\",77:\"Opolskie\",16:\"Podkarpackie\",85:\"Podlaskie\",33:\"Śląskie\",41:\"Świętokrzyskie\",62:\"Wielkopolskie\",91:\"Zachodnio-pomorskie\",55:\"Warmińsko-mazurskie\"}\r\n",
        "      kierunkowy = (int(self.nr_telefonu[0:2]))\r\n",
        "      if (kierunkowy in wojewodztwa.keys()):\r\n",
        "        self.wojewodztwo = wojewodztwa[kierunkowy]\r\n",
        "      elif (kierunkowy in komórkowy):\r\n",
        "        self.wojewodztwo = \"Numer komórkowy\"\r\n",
        "      else: \r\n",
        "        self.wojewodztwo = \"Nie wiadomo\"\r\n",
        "      return self.wojewodztwo         "
      ],
      "execution_count": 9,
      "outputs": []
    },
    {
      "cell_type": "markdown",
      "metadata": {
        "id": "FYGzWLunqkp6"
      },
      "source": [
        "Podanie numeru telefonu i sprawdzenie czy jest on poprawny."
      ]
    },
    {
      "cell_type": "code",
      "metadata": {
        "id": "gJ_LKJmStFcQ",
        "colab": {
          "base_uri": "https://localhost:8080/"
        },
        "outputId": "41f16a47-fcf4-4357-8c56-481a1968ffe4"
      },
      "source": [
        "wybrany_nr=Numertelefonu(\"127485952\")"
      ],
      "execution_count": 10,
      "outputs": [
        {
          "output_type": "stream",
          "text": [
            "Właściwy numer\n"
          ],
          "name": "stdout"
        }
      ]
    },
    {
      "cell_type": "markdown",
      "metadata": {
        "id": "qHhI20IzqtZh"
      },
      "source": [
        "Sprawdzenie z jakiego województwa pochodzi powyższy numer."
      ]
    },
    {
      "cell_type": "code",
      "metadata": {
        "id": "CHCJ9ruLtSJY",
        "colab": {
          "base_uri": "https://localhost:8080/"
        },
        "outputId": "5cc0d21b-fc12-4c04-abad-1b079990449e"
      },
      "source": [
        "print(wybrany_nr.wojewodztwo())"
      ],
      "execution_count": 11,
      "outputs": [
        {
          "output_type": "stream",
          "text": [
            "Małopolskie\n"
          ],
          "name": "stdout"
        }
      ]
    },
    {
      "cell_type": "markdown",
      "metadata": {
        "id": "CVX_8Z9Eqxzn"
      },
      "source": [
        "Wyprintowanie numeru polskimi sowami."
      ]
    },
    {
      "cell_type": "code",
      "metadata": {
        "id": "9d0hHfEytSUW",
        "colab": {
          "base_uri": "https://localhost:8080/"
        },
        "outputId": "9c25a486-6198-408e-bd6e-dd514e11f8e6"
      },
      "source": [
        "print(wybrany_nr)"
      ],
      "execution_count": 12,
      "outputs": [
        {
          "output_type": "stream",
          "text": [
            "jeden dwa siedem cztery osiem pięć dziewięć pięć dwa \n"
          ],
          "name": "stdout"
        }
      ]
    }
  ]
}
