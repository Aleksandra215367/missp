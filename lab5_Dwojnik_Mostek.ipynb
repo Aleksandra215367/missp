{
  "nbformat": 4,
  "nbformat_minor": 0,
  "metadata": {
    "colab": {
      "name": "Maxprad_Minmoc_lab5.ipynb",
      "provenance": [],
      "collapsed_sections": []
    },
    "kernelspec": {
      "name": "python3",
      "display_name": "Python 3"
    }
  },
  "cells": [
    {
      "cell_type": "markdown",
      "metadata": {
        "id": "fuNn-ZAjnjm5"
      },
      "source": [
        "Instalacja Pulpa i Sudo"
      ]
    },
    {
      "cell_type": "code",
      "metadata": {
        "id": "FXd46LiZdzuZ",
        "colab": {
          "base_uri": "https://localhost:8080/"
        },
        "outputId": "0f86c22c-fde3-476a-b20b-22c032249f17"
      },
      "source": [
        "!pip install pulp\n",
        "\n",
        "!sudo apt-get install coinor-cbc glpk-utils coinor-clp"
      ],
      "execution_count": 1,
      "outputs": [
        {
          "output_type": "stream",
          "text": [
            "Collecting pulp\n",
            "\u001b[?25l  Downloading https://files.pythonhosted.org/packages/89/0c/6d80f5f81a92d1733cc5ca180491b8a3cd5839e335627a0046c81b7d3d3d/PuLP-2.3.1-py3-none-any.whl (40.6MB)\n",
            "\u001b[K     |████████████████████████████████| 40.6MB 112kB/s \n",
            "\u001b[?25hCollecting amply>=0.1.2\n",
            "  Downloading https://files.pythonhosted.org/packages/f3/c5/dfa09dd2595a2ab2ab4e6fa7bebef9565812722e1980d04b0edce5032066/amply-0.1.4-py3-none-any.whl\n",
            "Requirement already satisfied: docutils>=0.3 in /usr/local/lib/python3.6/dist-packages (from amply>=0.1.2->pulp) (0.16)\n",
            "Requirement already satisfied: pyparsing in /usr/local/lib/python3.6/dist-packages (from amply>=0.1.2->pulp) (2.4.7)\n",
            "Installing collected packages: amply, pulp\n",
            "Successfully installed amply-0.1.4 pulp-2.3.1\n",
            "Reading package lists... Done\n",
            "Building dependency tree       \n",
            "Reading state information... Done\n",
            "The following additional packages will be installed:\n",
            "  coinor-libcbc3 coinor-libcgl1 coinor-libclp1 coinor-libcoinutils3v5\n",
            "  coinor-libosi1v5 libamd2 libcolamd2 libglpk40 libsuitesparseconfig5\n",
            "Suggested packages:\n",
            "  libiodbc2-dev default-libmysqlclient-dev\n",
            "The following NEW packages will be installed:\n",
            "  coinor-cbc coinor-clp coinor-libcbc3 coinor-libcgl1 coinor-libclp1\n",
            "  coinor-libcoinutils3v5 coinor-libosi1v5 glpk-utils libamd2 libcolamd2\n",
            "  libglpk40 libsuitesparseconfig5\n",
            "0 upgraded, 12 newly installed, 0 to remove and 14 not upgraded.\n",
            "Need to get 3,439 kB of archives.\n",
            "After this operation, 9,832 kB of additional disk space will be used.\n",
            "Get:1 http://archive.ubuntu.com/ubuntu bionic/main amd64 libsuitesparseconfig5 amd64 1:5.1.2-2 [9,044 B]\n",
            "Get:2 http://archive.ubuntu.com/ubuntu bionic/main amd64 libamd2 amd64 1:5.1.2-2 [19.5 kB]\n",
            "Get:3 http://archive.ubuntu.com/ubuntu bionic/main amd64 libcolamd2 amd64 1:5.1.2-2 [16.2 kB]\n",
            "Get:4 http://archive.ubuntu.com/ubuntu bionic/universe amd64 libglpk40 amd64 4.65-1 [378 kB]\n",
            "Get:5 http://archive.ubuntu.com/ubuntu bionic/universe amd64 glpk-utils amd64 4.65-1 [269 kB]\n",
            "Get:6 http://archive.ubuntu.com/ubuntu bionic/universe amd64 coinor-libcoinutils3v5 amd64 2.10.14+repack1-1 [472 kB]\n",
            "Get:7 http://archive.ubuntu.com/ubuntu bionic/universe amd64 coinor-libosi1v5 amd64 0.107.9+repack1-1 [270 kB]\n",
            "Get:8 http://archive.ubuntu.com/ubuntu bionic/universe amd64 coinor-libclp1 amd64 1.16.11+repack1-1 [863 kB]\n",
            "Get:9 http://archive.ubuntu.com/ubuntu bionic/universe amd64 coinor-libcgl1 amd64 0.59.10+repack1-1 [433 kB]\n",
            "Get:10 http://archive.ubuntu.com/ubuntu bionic/universe amd64 coinor-libcbc3 amd64 2.9.9+repack1-1 [687 kB]\n",
            "Get:11 http://archive.ubuntu.com/ubuntu bionic/universe amd64 coinor-cbc amd64 2.9.9+repack1-1 [11.2 kB]\n",
            "Get:12 http://archive.ubuntu.com/ubuntu bionic/universe amd64 coinor-clp amd64 1.16.11+repack1-1 [9,646 B]\n",
            "Fetched 3,439 kB in 2s (2,285 kB/s)\n",
            "debconf: unable to initialize frontend: Dialog\n",
            "debconf: (No usable dialog-like program is installed, so the dialog based frontend cannot be used. at /usr/share/perl5/Debconf/FrontEnd/Dialog.pm line 76, <> line 12.)\n",
            "debconf: falling back to frontend: Readline\n",
            "debconf: unable to initialize frontend: Readline\n",
            "debconf: (This frontend requires a controlling tty.)\n",
            "debconf: falling back to frontend: Teletype\n",
            "dpkg-preconfigure: unable to re-open stdin: \n",
            "Selecting previously unselected package libsuitesparseconfig5:amd64.\n",
            "(Reading database ... 144865 files and directories currently installed.)\n",
            "Preparing to unpack .../00-libsuitesparseconfig5_1%3a5.1.2-2_amd64.deb ...\n",
            "Unpacking libsuitesparseconfig5:amd64 (1:5.1.2-2) ...\n",
            "Selecting previously unselected package libamd2:amd64.\n",
            "Preparing to unpack .../01-libamd2_1%3a5.1.2-2_amd64.deb ...\n",
            "Unpacking libamd2:amd64 (1:5.1.2-2) ...\n",
            "Selecting previously unselected package libcolamd2:amd64.\n",
            "Preparing to unpack .../02-libcolamd2_1%3a5.1.2-2_amd64.deb ...\n",
            "Unpacking libcolamd2:amd64 (1:5.1.2-2) ...\n",
            "Selecting previously unselected package libglpk40:amd64.\n",
            "Preparing to unpack .../03-libglpk40_4.65-1_amd64.deb ...\n",
            "Unpacking libglpk40:amd64 (4.65-1) ...\n",
            "Selecting previously unselected package glpk-utils.\n",
            "Preparing to unpack .../04-glpk-utils_4.65-1_amd64.deb ...\n",
            "Unpacking glpk-utils (4.65-1) ...\n",
            "Selecting previously unselected package coinor-libcoinutils3v5.\n",
            "Preparing to unpack .../05-coinor-libcoinutils3v5_2.10.14+repack1-1_amd64.deb ...\n",
            "Unpacking coinor-libcoinutils3v5 (2.10.14+repack1-1) ...\n",
            "Selecting previously unselected package coinor-libosi1v5.\n",
            "Preparing to unpack .../06-coinor-libosi1v5_0.107.9+repack1-1_amd64.deb ...\n",
            "Unpacking coinor-libosi1v5 (0.107.9+repack1-1) ...\n",
            "Selecting previously unselected package coinor-libclp1.\n",
            "Preparing to unpack .../07-coinor-libclp1_1.16.11+repack1-1_amd64.deb ...\n",
            "Unpacking coinor-libclp1 (1.16.11+repack1-1) ...\n",
            "Selecting previously unselected package coinor-libcgl1.\n",
            "Preparing to unpack .../08-coinor-libcgl1_0.59.10+repack1-1_amd64.deb ...\n",
            "Unpacking coinor-libcgl1 (0.59.10+repack1-1) ...\n",
            "Selecting previously unselected package coinor-libcbc3.\n",
            "Preparing to unpack .../09-coinor-libcbc3_2.9.9+repack1-1_amd64.deb ...\n",
            "Unpacking coinor-libcbc3 (2.9.9+repack1-1) ...\n",
            "Selecting previously unselected package coinor-cbc.\n",
            "Preparing to unpack .../10-coinor-cbc_2.9.9+repack1-1_amd64.deb ...\n",
            "Unpacking coinor-cbc (2.9.9+repack1-1) ...\n",
            "Selecting previously unselected package coinor-clp.\n",
            "Preparing to unpack .../11-coinor-clp_1.16.11+repack1-1_amd64.deb ...\n",
            "Unpacking coinor-clp (1.16.11+repack1-1) ...\n",
            "Setting up libsuitesparseconfig5:amd64 (1:5.1.2-2) ...\n",
            "Setting up libcolamd2:amd64 (1:5.1.2-2) ...\n",
            "Setting up coinor-libcoinutils3v5 (2.10.14+repack1-1) ...\n",
            "Setting up coinor-libosi1v5 (0.107.9+repack1-1) ...\n",
            "Setting up coinor-libclp1 (1.16.11+repack1-1) ...\n",
            "Setting up libamd2:amd64 (1:5.1.2-2) ...\n",
            "Setting up coinor-libcgl1 (0.59.10+repack1-1) ...\n",
            "Setting up libglpk40:amd64 (4.65-1) ...\n",
            "Setting up coinor-clp (1.16.11+repack1-1) ...\n",
            "Setting up coinor-libcbc3 (2.9.9+repack1-1) ...\n",
            "Setting up glpk-utils (4.65-1) ...\n",
            "Setting up coinor-cbc (2.9.9+repack1-1) ...\n",
            "Processing triggers for man-db (2.8.3-2ubuntu0.1) ...\n",
            "Processing triggers for libc-bin (2.27-3ubuntu1.2) ...\n",
            "/sbin/ldconfig.real: /usr/local/lib/python3.6/dist-packages/ideep4py/lib/libmkldnn.so.0 is not a symbolic link\n",
            "\n"
          ],
          "name": "stdout"
        }
      ]
    },
    {
      "cell_type": "markdown",
      "metadata": {
        "id": "KbufbcqNnnBp"
      },
      "source": [
        "Import Pulpa oraz sprawdzenie wersji."
      ]
    },
    {
      "cell_type": "code",
      "metadata": {
        "colab": {
          "base_uri": "https://localhost:8080/"
        },
        "id": "RXeLG3sTnq__",
        "outputId": "a5e3fa21-b8dc-4b10-804b-64da7941fcfa"
      },
      "source": [
        "import pulp\r\n",
        "print(pulp.__version__)"
      ],
      "execution_count": 3,
      "outputs": [
        {
          "output_type": "stream",
          "text": [
            "2.3.1\n"
          ],
          "name": "stdout"
        }
      ]
    },
    {
      "cell_type": "markdown",
      "metadata": {
        "id": "Hwr3WjFcoB6n"
      },
      "source": [
        "**Zadanie 1 - Wyznaczenie maksymalnego prądu płynącego przez układ.**"
      ]
    },
    {
      "cell_type": "markdown",
      "metadata": {
        "id": "qVNob6idoR23"
      },
      "source": [
        "Importowanie Pulpa."
      ]
    },
    {
      "cell_type": "code",
      "metadata": {
        "id": "7jBSd1Z6oVVK"
      },
      "source": [
        "from pulp import *"
      ],
      "execution_count": 4,
      "outputs": []
    },
    {
      "cell_type": "markdown",
      "metadata": {
        "id": "bZDtgTnnoYWG"
      },
      "source": [
        "Zdefiniowanie problemu poprzez zmienną \"prob\"."
      ]
    },
    {
      "cell_type": "code",
      "metadata": {
        "id": "9AUYPA2noeCe"
      },
      "source": [
        "prob = LpProblem(\"MaxPrad\",LpMaximize)"
      ],
      "execution_count": 5,
      "outputs": []
    },
    {
      "cell_type": "markdown",
      "metadata": {
        "id": "TcpA-RBbof24"
      },
      "source": [
        "Zdefiniowanie 5 zmiennych odpowiadających prądom płynących przez układ."
      ]
    },
    {
      "cell_type": "code",
      "metadata": {
        "id": "897LtEo1ooZf"
      },
      "source": [
        "I1 = LpVariable(\"I1\",0,None,LpContinuous)\r\n",
        "I2 = LpVariable(\"I2\",0,None,LpContinuous)\r\n",
        "I3 = LpVariable(\"I3\",0,None,LpContinuous)\r\n",
        "I4 = LpVariable(\"I4\",0,None,LpContinuous)\r\n",
        "I5 = LpVariable(\"I5\",0,None,LpContinuous)"
      ],
      "execution_count": 6,
      "outputs": []
    },
    {
      "cell_type": "markdown",
      "metadata": {
        "id": "L7MBbG-OoqwO"
      },
      "source": [
        "Stworzenie równań zgodnych z treścią zadania."
      ]
    },
    {
      "cell_type": "code",
      "metadata": {
        "id": "9e1ZqhBTpHfQ"
      },
      "source": [
        "prob += I3, \"SumaPradow\" \r\n",
        "\r\n",
        "prob += I1 + I2 == I3, \"suma1\"\r\n",
        "prob += I4 + I5 == I3, \"suma2\"\r\n",
        "\r\n",
        "\r\n",
        "prob += I1*8 == I2*6, \"U1\"\r\n",
        "prob += I5*8 == I4*10, \"U2\""
      ],
      "execution_count": 7,
      "outputs": []
    },
    {
      "cell_type": "markdown",
      "metadata": {
        "id": "Q2NXQ98_pJcP"
      },
      "source": [
        "Wprowadzenie ograniczeń prądów."
      ]
    },
    {
      "cell_type": "code",
      "metadata": {
        "id": "jaY0ZcEZpQTe"
      },
      "source": [
        "prob += I1 <= 2, \"ogr_I1\"\r\n",
        "prob += I2 <= 3, \"ogr_I2\"\r\n",
        "prob += I3 <= 4, \"ogr_I3\"\r\n",
        "prob += I4 <= 2, \"ogr_I4\"\r\n",
        "prob += I5 <= 2, \"ogr_I5\""
      ],
      "execution_count": 8,
      "outputs": []
    },
    {
      "cell_type": "markdown",
      "metadata": {
        "id": "OEsRafOUpTmX"
      },
      "source": [
        "Zapisanie problemu do pliku .lp oraz rozwiązanie problemu za pomocą Solvera wybranego przez Pulpa."
      ]
    },
    {
      "cell_type": "code",
      "metadata": {
        "colab": {
          "base_uri": "https://localhost:8080/"
        },
        "id": "ZfAVsqG3pcDA",
        "outputId": "4bf35f44-994c-4720-b590-9e56db032a9d"
      },
      "source": [
        "prob.writeLP(\"MaxPrad.lp\")\r\n",
        "\r\n",
        "prob.solve()"
      ],
      "execution_count": 9,
      "outputs": [
        {
          "output_type": "execute_result",
          "data": {
            "text/plain": [
              "1"
            ]
          },
          "metadata": {
            "tags": []
          },
          "execution_count": 9
        }
      ]
    },
    {
      "cell_type": "markdown",
      "metadata": {
        "id": "IBn2WgM5pez7"
      },
      "source": [
        "Wyprintowanie statusu rozwiązania oraz zmiennych z rozwiązaną optymalną wartością."
      ]
    },
    {
      "cell_type": "code",
      "metadata": {
        "colab": {
          "base_uri": "https://localhost:8080/"
        },
        "id": "De02BGUqpypO",
        "outputId": "481f799c-9f07-427b-91a6-3366b14878a8"
      },
      "source": [
        "print (\"Status:\", LpStatus[prob.status])\r\n",
        "\r\n",
        "print(\"Max prad układu:\",prob.objective.value(),\"A\")\r\n",
        "print(\"Wartości poszczególnych prądów wynoszą:\")\r\n",
        "for v in prob.variables():\r\n",
        "    print (v.name, \"=\", v.varValue,\"A\")"
      ],
      "execution_count": 10,
      "outputs": [
        {
          "output_type": "stream",
          "text": [
            "Status: Optimal\n",
            "Max prad układu: 3.6 A\n",
            "Wartości poszczególnych prądów wynoszą:\n",
            "I1 = 1.5428571 A\n",
            "I2 = 2.0571429 A\n",
            "I3 = 3.6 A\n",
            "I4 = 1.6 A\n",
            "I5 = 2.0 A\n"
          ],
          "name": "stdout"
        }
      ]
    },
    {
      "cell_type": "markdown",
      "metadata": {
        "id": "cOocGlrusuwx"
      },
      "source": [
        "Program działa poprawnie, status rozwiązania jest optymalny."
      ]
    },
    {
      "cell_type": "markdown",
      "metadata": {
        "id": "b3Onpwg_qCjY"
      },
      "source": [
        "**Zadanie 2 - Wyznaczenie minimalnej mocy rozproszenia na rezystorach oraz wartości prądów.**"
      ]
    },
    {
      "cell_type": "markdown",
      "metadata": {
        "id": "ZtZy2dAtqdSw"
      },
      "source": [
        "Importowanie Pulpa."
      ]
    },
    {
      "cell_type": "code",
      "metadata": {
        "id": "ydxd3OfmqfGF"
      },
      "source": [
        "from pulp import *"
      ],
      "execution_count": 11,
      "outputs": []
    },
    {
      "cell_type": "markdown",
      "metadata": {
        "id": "YxiZm600qhiv"
      },
      "source": [
        "Przypisanie napięciom ich wartości zgonych z treścią zadania. Napięcia będą potrzebne do wyznaczenia wartości poszczególnych rezystancji na mostku."
      ]
    },
    {
      "cell_type": "code",
      "metadata": {
        "id": "u7-zg1MVqtKP"
      },
      "source": [
        "U1=6\r\n",
        "U2=10\r\n",
        "U3=4\r\n",
        "U4=7\r\n",
        "U5 =3"
      ],
      "execution_count": 12,
      "outputs": []
    },
    {
      "cell_type": "markdown",
      "metadata": {
        "id": "z0nR967cquwP"
      },
      "source": [
        "Zdefiniowanie problemu w zmiennej \"prob\"."
      ]
    },
    {
      "cell_type": "code",
      "metadata": {
        "id": "qcci_AwWqyru"
      },
      "source": [
        "prob = LpProblem(\"MinMoc\",LpMinimize)"
      ],
      "execution_count": 13,
      "outputs": []
    },
    {
      "cell_type": "markdown",
      "metadata": {
        "id": "-LDQildPq0QT"
      },
      "source": [
        "Zdefiniowanie zmiennych."
      ]
    },
    {
      "cell_type": "code",
      "metadata": {
        "id": "Jq2qi-COrA71"
      },
      "source": [
        "I1=LpVariable(\"I1\",0)\r\n",
        "I2=LpVariable(\"I2\",0)\r\n",
        "I3=LpVariable(\"I3\",0)\r\n",
        "I4=LpVariable(\"I4\",0)\r\n",
        "I5=LpVariable(\"I5\",0)"
      ],
      "execution_count": 14,
      "outputs": []
    },
    {
      "cell_type": "markdown",
      "metadata": {
        "id": "NeYKpD02rCh-"
      },
      "source": [
        "Stworzenie funkcji dotyczącej wyznaczenia minimalnej mocy."
      ]
    },
    {
      "cell_type": "code",
      "metadata": {
        "id": "M_hMbZmsrPvF"
      },
      "source": [
        "prob += 6*I1 + 10*I2 + 4*I3 + 7*I4 + 3*I5\r\n",
        "prob += I1+I2 == I4+I5\r\n",
        "prob += I1 == I3+I4\r\n",
        "prob += I2 == I5-I3"
      ],
      "execution_count": 15,
      "outputs": []
    },
    {
      "cell_type": "markdown",
      "metadata": {
        "id": "xdVQPJ5xrRFy"
      },
      "source": [
        "Wprowadzenia ograniczeń prądów."
      ]
    },
    {
      "cell_type": "code",
      "metadata": {
        "id": "dsaW60SXrUyh"
      },
      "source": [
        "prob += I1 >= 3, \"I1min\"\r\n",
        "prob += I1 <= 5, \"I1max\"\r\n",
        "prob += I2 >= 1, \"I2min\"\r\n",
        "prob += I2 <= 3, \"I2max\" \r\n",
        "prob += I3 >= 1, \"I3min\"\r\n",
        "prob += I3 <= 3, \"I3max\"\r\n",
        "prob += I4 >= 1, \"I4min\"\r\n",
        "prob += I4 <= 3, \"I4max\"\r\n",
        "prob += I5 >= 3, \"I5min\"\r\n",
        "prob += I5 <= 5, \"I5max\""
      ],
      "execution_count": 16,
      "outputs": []
    },
    {
      "cell_type": "markdown",
      "metadata": {
        "id": "vPgy5xLwrW5m"
      },
      "source": [
        "Zapisanie problemu do pliku .lp oraz rozwiązanie numeryczne problemu."
      ]
    },
    {
      "cell_type": "code",
      "metadata": {
        "colab": {
          "base_uri": "https://localhost:8080/"
        },
        "id": "RgNV4UmIrbxv",
        "outputId": "bb18811f-c897-4b29-8c2d-8a612a01da89"
      },
      "source": [
        "prob.writeLP(\"MinMoc.lp\")\r\n",
        "prob.solve()"
      ],
      "execution_count": 17,
      "outputs": [
        {
          "output_type": "execute_result",
          "data": {
            "text/plain": [
              "1"
            ]
          },
          "metadata": {
            "tags": []
          },
          "execution_count": 17
        }
      ]
    },
    {
      "cell_type": "markdown",
      "metadata": {
        "id": "PFmVObI7rdwC"
      },
      "source": [
        "Wyprintowanie statusu rozwiązania oraz maksymalnej mocy na mostku."
      ]
    },
    {
      "cell_type": "code",
      "metadata": {
        "colab": {
          "base_uri": "https://localhost:8080/"
        },
        "id": "mmx8t6TMrlSm",
        "outputId": "0312f4a8-c5a6-4f4c-9726-af2ccdc2e55d"
      },
      "source": [
        "print(\"Status:\", LpStatus[prob.status])\r\n",
        "\r\n",
        "print(\"Min moc: {} mW\".format(value(prob.objective)))"
      ],
      "execution_count": 18,
      "outputs": [
        {
          "output_type": "stream",
          "text": [
            "Status: Optimal\n",
            "Min moc: 52.0 mW\n"
          ],
          "name": "stdout"
        }
      ]
    },
    {
      "cell_type": "markdown",
      "metadata": {
        "id": "irLGK86arokF"
      },
      "source": [
        "Wyprintowanie zmiennych z rozwiązaną optymalną wartością."
      ]
    },
    {
      "cell_type": "code",
      "metadata": {
        "colab": {
          "base_uri": "https://localhost:8080/"
        },
        "id": "CJaz8amPr1dF",
        "outputId": "d1e75710-73d3-461c-f0cb-b636be1ca196"
      },
      "source": [
        "for v in prob.variables():\r\n",
        "    print (v.name, \"=\", v.varValue,\"mA\")"
      ],
      "execution_count": 19,
      "outputs": [
        {
          "output_type": "stream",
          "text": [
            "I1 = 3.0 mA\n",
            "I2 = 1.0 mA\n",
            "I3 = 2.0 mA\n",
            "I4 = 1.0 mA\n",
            "I5 = 3.0 mA\n"
          ],
          "name": "stdout"
        }
      ]
    },
    {
      "cell_type": "markdown",
      "metadata": {
        "id": "Az9XQOv-r4Im"
      },
      "source": [
        "Wyprintowanie wartości poszczególnych rezystancji na mostku, korzystając ze wzoru Ohma."
      ]
    },
    {
      "cell_type": "code",
      "metadata": {
        "colab": {
          "base_uri": "https://localhost:8080/"
        },
        "id": "9mXeIrUDsFgm",
        "outputId": "4e576f65-0a1d-405e-d54e-31f52df0fb4e"
      },
      "source": [
        "print(\"R1 =\", U1/I1.varValue,\"kOhm\")\r\n",
        "print(\"R2 =\", U2/I2.varValue,\"kOhm\")\r\n",
        "print(\"R3 =\", U3/I3.varValue,\"kOhm\")\r\n",
        "print(\"R4 =\", U4/I4.varValue,\"kOhm\")\r\n",
        "print(\"R5 =\", U5/I5.varValue,\"kOhm\")"
      ],
      "execution_count": 20,
      "outputs": [
        {
          "output_type": "stream",
          "text": [
            "R1 = 2.0 kOhm\n",
            "R2 = 10.0 kOhm\n",
            "R3 = 2.0 kOhm\n",
            "R4 = 7.0 kOhm\n",
            "R5 = 1.0 kOhm\n"
          ],
          "name": "stdout"
        }
      ]
    },
    {
      "cell_type": "markdown",
      "metadata": {
        "id": "1NHl9dfDsX8y"
      },
      "source": [
        "Program działa poprawnie, status rozwiązania jest optymalny."
      ]
    }
  ]
}
