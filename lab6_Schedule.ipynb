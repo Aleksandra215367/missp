{
  "nbformat": 4,
  "nbformat_minor": 0,
  "metadata": {
    "colab": {
      "name": "Schedule_lab6.ipynb",
      "provenance": [],
      "collapsed_sections": []
    },
    "kernelspec": {
      "name": "python3",
      "display_name": "Python 3"
    }
  },
  "cells": [
    {
      "cell_type": "markdown",
      "metadata": {
        "id": "EeirMwTv0xsT"
      },
      "source": [
        "Instalacja Pulpa i Sudo."
      ]
    },
    {
      "cell_type": "code",
      "metadata": {
        "colab": {
          "base_uri": "https://localhost:8080/"
        },
        "id": "U2FWt_3h0qgF",
        "outputId": "5c09589c-2c0c-49f6-9230-7625d5d913f8"
      },
      "source": [
        "!pip install pulp\r\n",
        "\r\n",
        "!sudo apt-get install coinor-cbc glpk-utils coinor-clp"
      ],
      "execution_count": 1,
      "outputs": [
        {
          "output_type": "stream",
          "text": [
            "Collecting pulp\n",
            "\u001b[?25l  Downloading https://files.pythonhosted.org/packages/89/0c/6d80f5f81a92d1733cc5ca180491b8a3cd5839e335627a0046c81b7d3d3d/PuLP-2.3.1-py3-none-any.whl (40.6MB)\n",
            "\u001b[K     |████████████████████████████████| 40.6MB 106kB/s \n",
            "\u001b[?25hCollecting amply>=0.1.2\n",
            "  Downloading https://files.pythonhosted.org/packages/f3/c5/dfa09dd2595a2ab2ab4e6fa7bebef9565812722e1980d04b0edce5032066/amply-0.1.4-py3-none-any.whl\n",
            "Requirement already satisfied: pyparsing in /usr/local/lib/python3.6/dist-packages (from amply>=0.1.2->pulp) (2.4.7)\n",
            "Requirement already satisfied: docutils>=0.3 in /usr/local/lib/python3.6/dist-packages (from amply>=0.1.2->pulp) (0.16)\n",
            "Installing collected packages: amply, pulp\n",
            "Successfully installed amply-0.1.4 pulp-2.3.1\n",
            "Reading package lists... Done\n",
            "Building dependency tree       \n",
            "Reading state information... Done\n",
            "The following additional packages will be installed:\n",
            "  coinor-libcbc3 coinor-libcgl1 coinor-libclp1 coinor-libcoinutils3v5\n",
            "  coinor-libosi1v5 libamd2 libcolamd2 libglpk40 libsuitesparseconfig5\n",
            "Suggested packages:\n",
            "  libiodbc2-dev default-libmysqlclient-dev\n",
            "The following NEW packages will be installed:\n",
            "  coinor-cbc coinor-clp coinor-libcbc3 coinor-libcgl1 coinor-libclp1\n",
            "  coinor-libcoinutils3v5 coinor-libosi1v5 glpk-utils libamd2 libcolamd2\n",
            "  libglpk40 libsuitesparseconfig5\n",
            "0 upgraded, 12 newly installed, 0 to remove and 14 not upgraded.\n",
            "Need to get 3,439 kB of archives.\n",
            "After this operation, 9,832 kB of additional disk space will be used.\n",
            "Get:1 http://archive.ubuntu.com/ubuntu bionic/main amd64 libsuitesparseconfig5 amd64 1:5.1.2-2 [9,044 B]\n",
            "Get:2 http://archive.ubuntu.com/ubuntu bionic/main amd64 libamd2 amd64 1:5.1.2-2 [19.5 kB]\n",
            "Get:3 http://archive.ubuntu.com/ubuntu bionic/main amd64 libcolamd2 amd64 1:5.1.2-2 [16.2 kB]\n",
            "Get:4 http://archive.ubuntu.com/ubuntu bionic/universe amd64 libglpk40 amd64 4.65-1 [378 kB]\n",
            "Get:5 http://archive.ubuntu.com/ubuntu bionic/universe amd64 glpk-utils amd64 4.65-1 [269 kB]\n",
            "Get:6 http://archive.ubuntu.com/ubuntu bionic/universe amd64 coinor-libcoinutils3v5 amd64 2.10.14+repack1-1 [472 kB]\n",
            "Get:7 http://archive.ubuntu.com/ubuntu bionic/universe amd64 coinor-libosi1v5 amd64 0.107.9+repack1-1 [270 kB]\n",
            "Get:8 http://archive.ubuntu.com/ubuntu bionic/universe amd64 coinor-libclp1 amd64 1.16.11+repack1-1 [863 kB]\n",
            "Get:9 http://archive.ubuntu.com/ubuntu bionic/universe amd64 coinor-libcgl1 amd64 0.59.10+repack1-1 [433 kB]\n",
            "Get:10 http://archive.ubuntu.com/ubuntu bionic/universe amd64 coinor-libcbc3 amd64 2.9.9+repack1-1 [687 kB]\n",
            "Get:11 http://archive.ubuntu.com/ubuntu bionic/universe amd64 coinor-cbc amd64 2.9.9+repack1-1 [11.2 kB]\n",
            "Get:12 http://archive.ubuntu.com/ubuntu bionic/universe amd64 coinor-clp amd64 1.16.11+repack1-1 [9,646 B]\n",
            "Fetched 3,439 kB in 1s (3,448 kB/s)\n",
            "debconf: unable to initialize frontend: Dialog\n",
            "debconf: (No usable dialog-like program is installed, so the dialog based frontend cannot be used. at /usr/share/perl5/Debconf/FrontEnd/Dialog.pm line 76, <> line 12.)\n",
            "debconf: falling back to frontend: Readline\n",
            "debconf: unable to initialize frontend: Readline\n",
            "debconf: (This frontend requires a controlling tty.)\n",
            "debconf: falling back to frontend: Teletype\n",
            "dpkg-preconfigure: unable to re-open stdin: \n",
            "Selecting previously unselected package libsuitesparseconfig5:amd64.\n",
            "(Reading database ... 144865 files and directories currently installed.)\n",
            "Preparing to unpack .../00-libsuitesparseconfig5_1%3a5.1.2-2_amd64.deb ...\n",
            "Unpacking libsuitesparseconfig5:amd64 (1:5.1.2-2) ...\n",
            "Selecting previously unselected package libamd2:amd64.\n",
            "Preparing to unpack .../01-libamd2_1%3a5.1.2-2_amd64.deb ...\n",
            "Unpacking libamd2:amd64 (1:5.1.2-2) ...\n",
            "Selecting previously unselected package libcolamd2:amd64.\n",
            "Preparing to unpack .../02-libcolamd2_1%3a5.1.2-2_amd64.deb ...\n",
            "Unpacking libcolamd2:amd64 (1:5.1.2-2) ...\n",
            "Selecting previously unselected package libglpk40:amd64.\n",
            "Preparing to unpack .../03-libglpk40_4.65-1_amd64.deb ...\n",
            "Unpacking libglpk40:amd64 (4.65-1) ...\n",
            "Selecting previously unselected package glpk-utils.\n",
            "Preparing to unpack .../04-glpk-utils_4.65-1_amd64.deb ...\n",
            "Unpacking glpk-utils (4.65-1) ...\n",
            "Selecting previously unselected package coinor-libcoinutils3v5.\n",
            "Preparing to unpack .../05-coinor-libcoinutils3v5_2.10.14+repack1-1_amd64.deb ...\n",
            "Unpacking coinor-libcoinutils3v5 (2.10.14+repack1-1) ...\n",
            "Selecting previously unselected package coinor-libosi1v5.\n",
            "Preparing to unpack .../06-coinor-libosi1v5_0.107.9+repack1-1_amd64.deb ...\n",
            "Unpacking coinor-libosi1v5 (0.107.9+repack1-1) ...\n",
            "Selecting previously unselected package coinor-libclp1.\n",
            "Preparing to unpack .../07-coinor-libclp1_1.16.11+repack1-1_amd64.deb ...\n",
            "Unpacking coinor-libclp1 (1.16.11+repack1-1) ...\n",
            "Selecting previously unselected package coinor-libcgl1.\n",
            "Preparing to unpack .../08-coinor-libcgl1_0.59.10+repack1-1_amd64.deb ...\n",
            "Unpacking coinor-libcgl1 (0.59.10+repack1-1) ...\n",
            "Selecting previously unselected package coinor-libcbc3.\n",
            "Preparing to unpack .../09-coinor-libcbc3_2.9.9+repack1-1_amd64.deb ...\n",
            "Unpacking coinor-libcbc3 (2.9.9+repack1-1) ...\n",
            "Selecting previously unselected package coinor-cbc.\n",
            "Preparing to unpack .../10-coinor-cbc_2.9.9+repack1-1_amd64.deb ...\n",
            "Unpacking coinor-cbc (2.9.9+repack1-1) ...\n",
            "Selecting previously unselected package coinor-clp.\n",
            "Preparing to unpack .../11-coinor-clp_1.16.11+repack1-1_amd64.deb ...\n",
            "Unpacking coinor-clp (1.16.11+repack1-1) ...\n",
            "Setting up libsuitesparseconfig5:amd64 (1:5.1.2-2) ...\n",
            "Setting up libcolamd2:amd64 (1:5.1.2-2) ...\n",
            "Setting up coinor-libcoinutils3v5 (2.10.14+repack1-1) ...\n",
            "Setting up coinor-libosi1v5 (0.107.9+repack1-1) ...\n",
            "Setting up coinor-libclp1 (1.16.11+repack1-1) ...\n",
            "Setting up libamd2:amd64 (1:5.1.2-2) ...\n",
            "Setting up coinor-libcgl1 (0.59.10+repack1-1) ...\n",
            "Setting up libglpk40:amd64 (4.65-1) ...\n",
            "Setting up coinor-clp (1.16.11+repack1-1) ...\n",
            "Setting up coinor-libcbc3 (2.9.9+repack1-1) ...\n",
            "Setting up glpk-utils (4.65-1) ...\n",
            "Setting up coinor-cbc (2.9.9+repack1-1) ...\n",
            "Processing triggers for man-db (2.8.3-2ubuntu0.1) ...\n",
            "Processing triggers for libc-bin (2.27-3ubuntu1.2) ...\n",
            "/sbin/ldconfig.real: /usr/local/lib/python3.6/dist-packages/ideep4py/lib/libmkldnn.so.0 is not a symbolic link\n",
            "\n"
          ],
          "name": "stdout"
        }
      ]
    },
    {
      "cell_type": "markdown",
      "metadata": {
        "id": "mu_irrsR01fS"
      },
      "source": [
        "Import Pulpa oraz wersja."
      ]
    },
    {
      "cell_type": "code",
      "metadata": {
        "colab": {
          "base_uri": "https://localhost:8080/"
        },
        "id": "-2o33aLO1FDn",
        "outputId": "83197470-1207-4075-f590-143431bea388"
      },
      "source": [
        "import pulp\r\n",
        "print(pulp.__version__)"
      ],
      "execution_count": 2,
      "outputs": [
        {
          "output_type": "stream",
          "text": [
            "2.3.1\n"
          ],
          "name": "stdout"
        }
      ]
    },
    {
      "cell_type": "markdown",
      "metadata": {
        "id": "8yHsa9_A1Flk"
      },
      "source": [
        "**Zadanie 1 - Ułożenie planu pracy pracowników, tak aby była możliwość zaoszczędzenia jak najwięcej pieniędzy.**"
      ]
    },
    {
      "cell_type": "markdown",
      "metadata": {
        "id": "1ClAdhpE1JCy"
      },
      "source": [
        "Zaimportowanie Pulpa."
      ]
    },
    {
      "cell_type": "code",
      "metadata": {
        "id": "hKnNQDF71Iqy"
      },
      "source": [
        "from pulp import *"
      ],
      "execution_count": 3,
      "outputs": []
    },
    {
      "cell_type": "markdown",
      "metadata": {
        "id": "Zi6giOKx1NyK"
      },
      "source": [
        "Przypisanie praconikom kwoty jaką biorą za godzinę pracy."
      ]
    },
    {
      "cell_type": "code",
      "metadata": {
        "id": "fogQTUrR1QCy"
      },
      "source": [
        "Ania_h = 100\r\n",
        "Stefan_h = 50\r\n",
        "Hektor_h = 60\r\n",
        "Olaf_h = 40\r\n",
        "Lidia_h = 110\r\n",
        "Piotr_h = 70"
      ],
      "execution_count": 4,
      "outputs": []
    },
    {
      "cell_type": "markdown",
      "metadata": {
        "id": "XzFHzZnm1RV7"
      },
      "source": [
        "Zdefiniowanie problemu w zmiennej \"prob\"."
      ]
    },
    {
      "cell_type": "code",
      "metadata": {
        "id": "zYYHal1w1UYU"
      },
      "source": [
        "prob = LpProblem(\"Plan\", LpMinimize)"
      ],
      "execution_count": 5,
      "outputs": []
    },
    {
      "cell_type": "markdown",
      "metadata": {
        "id": "ImlQqKkz1V0y"
      },
      "source": [
        "Przypisanie pracownikom dni, w których mogą pracować."
      ]
    },
    {
      "cell_type": "code",
      "metadata": {
        "id": "hGeNDuKO1XYb"
      },
      "source": [
        "Ania_pon=pulp.LpVariable(\"Ania_poniedzialek\",0,1)\r\n",
        "Ania_wt=pulp.LpVariable(\"Ania_wtorek\",0,1)\r\n",
        "Ania_sr=pulp.LpVariable(\"Ania_sroda\",0,1)\r\n",
        "Ania_czw=pulp.LpVariable(\"Ania_czwartek\",0,1)\r\n",
        "Ania_pt=pulp.LpVariable(\"Ania_piatek\",0,1)\r\n",
        "Stefan_pon=pulp.LpVariable(\"Stefan_poniedzialek\",0,1)\r\n",
        "Hektor_pon=pulp.LpVariable(\"Hektor_poniedzialek\",0,1)\r\n",
        "Hektor_wt=pulp.LpVariable(\"Hektor_wtorek\",0,1)\r\n",
        "Hektor_sr=pulp.LpVariable(\"Hektor_sroda\",0,1)\r\n",
        "Olaf_pon=pulp.LpVariable(\"Olaf_poniedzialek\",0,1)\r\n",
        "Olaf_wt=pulp.LpVariable(\"Olaf_wtorek\",0,1)\r\n",
        "Olaf_sr=pulp.LpVariable(\"Olaf_sroda\",0,1)\r\n",
        "Olaf_czw=pulp.LpVariable(\"Olaf_czwartek\",0,1)\r\n",
        "Olaf_pt=pulp.LpVariable(\"Olaf_piatek\",0,1)\r\n",
        "Lidia_czw=pulp.LpVariable(\"Lidia_czwartek\",0,1)\r\n",
        "Lidia_pt=pulp.LpVariable(\"Lidia_piatek\",0,1)\r\n",
        "Piotr_pon=pulp.LpVariable(\"Piotr_poniedzialek\",0,1)\r\n",
        "Piotr_wt=pulp.LpVariable(\"Piotr_wtorek\",0,1)\r\n",
        "Piotr_sr=pulp.LpVariable(\"Piotr_sroda\",0,1)"
      ],
      "execution_count": 7,
      "outputs": []
    },
    {
      "cell_type": "markdown",
      "metadata": {
        "id": "ZG1kZl791ZUL"
      },
      "source": [
        "Wprowadzenie ograniczeń związanych z treścią zadania."
      ]
    },
    {
      "cell_type": "code",
      "metadata": {
        "id": "MuycRagz1a5q"
      },
      "source": [
        "prob += 5*(Ania_h*(Ania_pon+Ania_wt+Ania_sr+Ania_czw+Ania_pt)+Stefan_h*(Stefan_pon)+Hektor_h*(Hektor_pon+Hektor_wt+Hektor_sr)+Olaf_h*(Olaf_pon+Olaf_wt+Olaf_sr+Olaf_czw+Olaf_pt)+Lidia_h*(Lidia_czw+Lidia_pt)+Piotr_h*(Piotr_pon+Piotr_wt+Piotr_sr))\r\n",
        "prob += Ania_pon+Ania_wt+Ania_sr+Ania_czw+Ania_pt <= 3\r\n",
        "prob += Olaf_pon+Olaf_wt+Olaf_sr+Olaf_czw+Olaf_pt <= 3\r\n",
        "prob += Ania_pon+Stefan_pon+Hektor_pon+Olaf_pon+Piotr_pon == 2\r\n",
        "prob += Ania_wt+Hektor_wt+Olaf_wt+Piotr_wt == 1\r\n",
        "prob += Ania_sr+Hektor_sr+Olaf_sr+Piotr_sr == 1\r\n",
        "prob += Ania_czw+Lidia_czw+Olaf_czw == 1\r\n",
        "prob += Ania_pt+Lidia_pt+Olaf_pt == 3"
      ],
      "execution_count": 8,
      "outputs": []
    },
    {
      "cell_type": "markdown",
      "metadata": {
        "id": "9hLdmjBa1kVU"
      },
      "source": [
        "Zapisanie problemu w pliku .lp oraz rozwiązanie problemu poprzez Solvera."
      ]
    },
    {
      "cell_type": "code",
      "metadata": {
        "colab": {
          "base_uri": "https://localhost:8080/"
        },
        "id": "ypoGR9MC1mP7",
        "outputId": "73e0e0cc-6967-4b52-985e-5e07a84c8586"
      },
      "source": [
        "prob.writeLP(\"Plan.lp\")\r\n",
        "\r\n",
        "prob.solve()"
      ],
      "execution_count": 12,
      "outputs": [
        {
          "output_type": "execute_result",
          "data": {
            "text/plain": [
              "1"
            ]
          },
          "metadata": {
            "tags": []
          },
          "execution_count": 12
        }
      ]
    },
    {
      "cell_type": "markdown",
      "metadata": {
        "id": "bG64MfI91hDz"
      },
      "source": [
        "Zdefiniowanie kosztu wyplat za godzinę pracy wszystkich pracowników oraz wyprintowanie."
      ]
    },
    {
      "cell_type": "code",
      "metadata": {
        "colab": {
          "base_uri": "https://localhost:8080/"
        },
        "id": "pDEf5wfb1gF6",
        "outputId": "a6d4b82c-e673-46da-8de2-7799f8c65208"
      },
      "source": [
        "wyplata = Ania_h*(Ania_pon.value()+Ania_wt.value()+Ania_sr.value()+Ania_czw.value()+Ania_pt.value())+Stefan_h*(Stefan_pon.value())+Hektor_h*(Hektor_pon.value()+Hektor_wt.value()+Hektor_sr.value())+Olaf_h*(Olaf_pon.value()+Olaf_wt.value()+Olaf_sr.value()+Olaf_czw.value()+Olaf_pt.value())+Lidia_h*(Lidia_czw.value()+Lidia_pt.value())+Piotr_h*(Piotr_pon.value()+Piotr_wt.value()+Piotr_sr.value())\r\n",
        "print(\"Wypłata za godzinę na tydzień wynosi: \",wyplata,\"zł.\")"
      ],
      "execution_count": 18,
      "outputs": [
        {
          "output_type": "stream",
          "text": [
            "Wypłata za godzinę na tydzień wynosi:  500.0 zł.\n"
          ],
          "name": "stdout"
        }
      ]
    },
    {
      "cell_type": "markdown",
      "metadata": {
        "id": "dHe19ua71n-z"
      },
      "source": [
        "Rozwiązanie problemu oraz wyprintowanie zmiennych wraz z rozwiązaną wartością optymalną."
      ]
    },
    {
      "cell_type": "code",
      "metadata": {
        "colab": {
          "base_uri": "https://localhost:8080/"
        },
        "id": "nZ4xOQi91pfK",
        "outputId": "f513cc98-8b8a-4116-8712-edcc09dcef1a"
      },
      "source": [
        "prob.solve()\r\n",
        "for var in prob.variables():\r\n",
        "    print (var.name, \"=\", var.varValue)"
      ],
      "execution_count": 16,
      "outputs": [
        {
          "output_type": "stream",
          "text": [
            "Ania_czwartek = 0.0\n",
            "Ania_piatek = 1.0\n",
            "Ania_poniedzialek = 0.0\n",
            "Ania_sroda = 0.0\n",
            "Ania_wtorek = 0.0\n",
            "Hektor_poniedzialek = 1.0\n",
            "Hektor_sroda = 1.0\n",
            "Hektor_wtorek = 0.0\n",
            "Lidia_czwartek = 0.0\n",
            "Lidia_piatek = 1.0\n",
            "Olaf_czwartek = 1.0\n",
            "Olaf_piatek = 1.0\n",
            "Olaf_poniedzialek = 0.0\n",
            "Olaf_sroda = 0.0\n",
            "Olaf_wtorek = 1.0\n",
            "Piotr_poniedzialek = 0.0\n",
            "Piotr_sroda = 0.0\n",
            "Piotr_wtorek = 0.0\n",
            "Stefan_poniedzialek = 1.0\n"
          ],
          "name": "stdout"
        }
      ]
    },
    {
      "cell_type": "markdown",
      "metadata": {
        "id": "yheA9uW71q28"
      },
      "source": [
        "Wyprintowanie całkowitej sumy wyplaty za tydzień pracy."
      ]
    },
    {
      "cell_type": "code",
      "metadata": {
        "colab": {
          "base_uri": "https://localhost:8080/"
        },
        "id": "s2aS33jb1s1K",
        "outputId": "11bea9d9-dde8-43f6-ea08-a516286bc416"
      },
      "source": [
        "print(\"Wypłata za tydzień pracy dla 6 pracowników wynosi: \",wyplata* 8,\" zł.\")"
      ],
      "execution_count": 17,
      "outputs": [
        {
          "output_type": "stream",
          "text": [
            "Wypłata za tydzień pracy dla 6 pracowników wynosi:  4000.0  zł.\n"
          ],
          "name": "stdout"
        }
      ]
    }
  ]
}
