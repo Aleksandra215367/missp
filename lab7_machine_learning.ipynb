{
  "nbformat": 4,
  "nbformat_minor": 0,
  "metadata": {
    "colab": {
      "name": "machine_learning_lab7.ipynb",
      "provenance": []
    },
    "kernelspec": {
      "name": "python3",
      "display_name": "Python 3"
    }
  },
  "cells": [
    {
      "cell_type": "markdown",
      "metadata": {
        "id": "KuNbAnlc-dGj"
      },
      "source": [
        "Instalacja Pandy."
      ]
    },
    {
      "cell_type": "code",
      "metadata": {
        "colab": {
          "base_uri": "https://localhost:8080/"
        },
        "id": "Mtu_h6Nv90_T",
        "outputId": "74eaca05-148a-4169-9099-763a49cca933"
      },
      "source": [
        "!pip install pandas"
      ],
      "execution_count": null,
      "outputs": [
        {
          "output_type": "stream",
          "text": [
            "Requirement already satisfied: pandas in /usr/local/lib/python3.6/dist-packages (1.1.5)\n",
            "Requirement already satisfied: pytz>=2017.2 in /usr/local/lib/python3.6/dist-packages (from pandas) (2018.9)\n",
            "Requirement already satisfied: python-dateutil>=2.7.3 in /usr/local/lib/python3.6/dist-packages (from pandas) (2.8.1)\n",
            "Requirement already satisfied: numpy>=1.15.4 in /usr/local/lib/python3.6/dist-packages (from pandas) (1.18.5)\n",
            "Requirement already satisfied: six>=1.5 in /usr/local/lib/python3.6/dist-packages (from python-dateutil>=2.7.3->pandas) (1.15.0)\n"
          ],
          "name": "stdout"
        }
      ]
    },
    {
      "cell_type": "markdown",
      "metadata": {
        "id": "rgX_aP29-i9s"
      },
      "source": [
        "**Zapoznanie się z uczeniem maszynowym.**\r\n",
        "\r\n",
        "**Zadanie 1 - Prognozowanie cen domów.**"
      ]
    },
    {
      "cell_type": "markdown",
      "metadata": {
        "id": "Ub2d8RWBBUqc"
      },
      "source": [
        "Importowanie Pandy. Wypisanie listy wszystkich zmiennych aby byla możliwość wyboru mniejszej ilości zmiennych."
      ]
    },
    {
      "cell_type": "code",
      "metadata": {
        "colab": {
          "base_uri": "https://localhost:8080/"
        },
        "id": "2O-oGSxpBHFh",
        "outputId": "109ee2dc-bc80-4f64-d2e3-45bbbb4b9fab"
      },
      "source": [
        "import pandas as pd\r\n",
        "melbourne_file_path = '/content/Melbourne_housing_FULL.csv'\r\n",
        "melbourne_data = pd.read_csv(melbourne_file_path) \r\n",
        "melbourne_data.columns"
      ],
      "execution_count": null,
      "outputs": [
        {
          "output_type": "execute_result",
          "data": {
            "text/plain": [
              "Index(['Suburb', 'Address', 'Rooms', 'Type', 'Price', 'Method', 'SellerG',\n",
              "       'Date', 'Distance', 'Postcode', 'Bedroom2', 'Bathroom', 'Car',\n",
              "       'Landsize', 'BuildingArea', 'YearBuilt', 'CouncilArea', 'Lattitude',\n",
              "       'Longtitude', 'Regionname', 'Propertycount'],\n",
              "      dtype='object')"
            ]
          },
          "metadata": {
            "tags": []
          },
          "execution_count": 20
        }
      ]
    },
    {
      "cell_type": "markdown",
      "metadata": {
        "id": "JFtVibjrBGyo"
      },
      "source": [
        "Aby pominąć brakujące wartości używamy Dropny."
      ]
    },
    {
      "cell_type": "code",
      "metadata": {
        "id": "achaG74SCwHD"
      },
      "source": [
        "melbourne_data = melbourne_data.dropna(axis=0)"
      ],
      "execution_count": null,
      "outputs": []
    },
    {
      "cell_type": "markdown",
      "metadata": {
        "id": "3vP_GXfOC16_"
      },
      "source": [
        "Tak znalezione kolumny używane do określenia ceny domu nazywane cechami i są używane do przewidywania."
      ]
    },
    {
      "cell_type": "code",
      "metadata": {
        "id": "VR38kBxqEO6m"
      },
      "source": [
        "y = melbourne_data.Price\r\n",
        "melbourne_features = ['Rooms', 'Bathroom', 'Landsize', 'Lattitude', 'Longtitude']"
      ],
      "execution_count": null,
      "outputs": []
    },
    {
      "cell_type": "markdown",
      "metadata": {
        "id": "7smaxJ3iDMvr"
      },
      "source": [
        "Przypisanie danych do zmiennej X."
      ]
    },
    {
      "cell_type": "code",
      "metadata": {
        "id": "tnXk0XNmEVES"
      },
      "source": [
        "X = melbourne_data[melbourne_features]"
      ],
      "execution_count": null,
      "outputs": []
    },
    {
      "cell_type": "markdown",
      "metadata": {
        "id": "S-Yco8HpEW1d"
      },
      "source": [
        "Poniżej znajdują się dane, które będą używane do prognozowania cen domów. Dane są zapisane za pomocą metody describe i head."
      ]
    },
    {
      "cell_type": "code",
      "metadata": {
        "colab": {
          "base_uri": "https://localhost:8080/",
          "height": 198
        },
        "id": "3K3VJQk-FNgF",
        "outputId": "48ac8f3f-98d0-4bca-87e5-45fe816cd852"
      },
      "source": [
        "X.describe()\r\n",
        "X.head()"
      ],
      "execution_count": null,
      "outputs": [
        {
          "output_type": "execute_result",
          "data": {
            "text/html": [
              "<div>\n",
              "<style scoped>\n",
              "    .dataframe tbody tr th:only-of-type {\n",
              "        vertical-align: middle;\n",
              "    }\n",
              "\n",
              "    .dataframe tbody tr th {\n",
              "        vertical-align: top;\n",
              "    }\n",
              "\n",
              "    .dataframe thead th {\n",
              "        text-align: right;\n",
              "    }\n",
              "</style>\n",
              "<table border=\"1\" class=\"dataframe\">\n",
              "  <thead>\n",
              "    <tr style=\"text-align: right;\">\n",
              "      <th></th>\n",
              "      <th>Rooms</th>\n",
              "      <th>Bathroom</th>\n",
              "      <th>Landsize</th>\n",
              "      <th>Lattitude</th>\n",
              "      <th>Longtitude</th>\n",
              "    </tr>\n",
              "  </thead>\n",
              "  <tbody>\n",
              "    <tr>\n",
              "      <th>2</th>\n",
              "      <td>2</td>\n",
              "      <td>1.0</td>\n",
              "      <td>156.0</td>\n",
              "      <td>-37.8079</td>\n",
              "      <td>144.9934</td>\n",
              "    </tr>\n",
              "    <tr>\n",
              "      <th>4</th>\n",
              "      <td>3</td>\n",
              "      <td>2.0</td>\n",
              "      <td>134.0</td>\n",
              "      <td>-37.8093</td>\n",
              "      <td>144.9944</td>\n",
              "    </tr>\n",
              "    <tr>\n",
              "      <th>6</th>\n",
              "      <td>4</td>\n",
              "      <td>1.0</td>\n",
              "      <td>120.0</td>\n",
              "      <td>-37.8072</td>\n",
              "      <td>144.9941</td>\n",
              "    </tr>\n",
              "    <tr>\n",
              "      <th>11</th>\n",
              "      <td>3</td>\n",
              "      <td>2.0</td>\n",
              "      <td>245.0</td>\n",
              "      <td>-37.8024</td>\n",
              "      <td>144.9993</td>\n",
              "    </tr>\n",
              "    <tr>\n",
              "      <th>14</th>\n",
              "      <td>2</td>\n",
              "      <td>1.0</td>\n",
              "      <td>256.0</td>\n",
              "      <td>-37.8060</td>\n",
              "      <td>144.9954</td>\n",
              "    </tr>\n",
              "  </tbody>\n",
              "</table>\n",
              "</div>"
            ],
            "text/plain": [
              "    Rooms  Bathroom  Landsize  Lattitude  Longtitude\n",
              "2       2       1.0     156.0   -37.8079    144.9934\n",
              "4       3       2.0     134.0   -37.8093    144.9944\n",
              "6       4       1.0     120.0   -37.8072    144.9941\n",
              "11      3       2.0     245.0   -37.8024    144.9993\n",
              "14      2       1.0     256.0   -37.8060    144.9954"
            ]
          },
          "metadata": {
            "tags": []
          },
          "execution_count": 16
        }
      ]
    },
    {
      "cell_type": "markdown",
      "metadata": {
        "id": "PJrtjdWRGh9F"
      },
      "source": [
        "Budowanie modelu. Do tworzenia modelu używana jest biblioteka sickit-learn."
      ]
    },
    {
      "cell_type": "code",
      "metadata": {
        "id": "gvjUpYCbHoO5"
      },
      "source": [
        "from sklearn.tree import DecisionTreeRegressor"
      ],
      "execution_count": null,
      "outputs": []
    },
    {
      "cell_type": "markdown",
      "metadata": {
        "id": "xK_hV61EHsiR"
      },
      "source": [
        "Zdefiniowanie i dopasowanie modelu."
      ]
    },
    {
      "cell_type": "code",
      "metadata": {
        "colab": {
          "base_uri": "https://localhost:8080/"
        },
        "id": "41oSWwR6HxjM",
        "outputId": "dcd11463-3307-4876-d669-280b1ff9da4e"
      },
      "source": [
        "melbourne_model = DecisionTreeRegressor(random_state=1)\r\n",
        "\r\n",
        "melbourne_model.fit(X, y)"
      ],
      "execution_count": null,
      "outputs": [
        {
          "output_type": "execute_result",
          "data": {
            "text/plain": [
              "DecisionTreeRegressor(ccp_alpha=0.0, criterion='mse', max_depth=None,\n",
              "                      max_features=None, max_leaf_nodes=None,\n",
              "                      min_impurity_decrease=0.0, min_impurity_split=None,\n",
              "                      min_samples_leaf=1, min_samples_split=2,\n",
              "                      min_weight_fraction_leaf=0.0, presort='deprecated',\n",
              "                      random_state=1, splitter='best')"
            ]
          },
          "metadata": {
            "tags": []
          },
          "execution_count": 18
        }
      ]
    },
    {
      "cell_type": "markdown",
      "metadata": {
        "id": "pWZUIxKXHpjx"
      },
      "source": [
        "Dopasowany model możemy wykorzystać do prognozowania.\r\n",
        "Prognoza dla pierwszych kilku rzędów wierszy danych uczących."
      ]
    },
    {
      "cell_type": "code",
      "metadata": {
        "colab": {
          "base_uri": "https://localhost:8080/"
        },
        "id": "R4dxjPTVH24q",
        "outputId": "b10d6f98-5ccf-4392-85d9-e85cfeae87f7"
      },
      "source": [
        "print(\"Making predictions for the following 5 houses:\")\r\n",
        "print(X.head())\r\n",
        "print(\"The predictions are\")\r\n",
        "print(melbourne_model.predict(X.head()))"
      ],
      "execution_count": null,
      "outputs": [
        {
          "output_type": "stream",
          "text": [
            "Making predictions for the following 5 houses:\n",
            "    Rooms  Bathroom  Landsize  Lattitude  Longtitude\n",
            "2       2       1.0     156.0   -37.8079    144.9934\n",
            "4       3       2.0     134.0   -37.8093    144.9944\n",
            "6       4       1.0     120.0   -37.8072    144.9941\n",
            "11      3       2.0     245.0   -37.8024    144.9993\n",
            "14      2       1.0     256.0   -37.8060    144.9954\n",
            "The predictions are\n",
            "[1035000. 1465000. 1600000. 1876000. 1636000.]\n"
          ],
          "name": "stdout"
        }
      ]
    }
  ]
}
